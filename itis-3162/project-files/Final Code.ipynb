{
 "cells": [
  {
   "cell_type": "code",
   "execution_count": 1,
   "id": "494d91e1",
   "metadata": {},
   "outputs": [],
   "source": [
    "import pandas as pd"
   ]
  },
  {
   "cell_type": "code",
   "execution_count": 2,
   "id": "04721f68",
   "metadata": {},
   "outputs": [
    {
     "name": "stderr",
     "output_type": "stream",
     "text": [
      "C:\\Users\\ayira\\AppData\\Local\\Temp\\ipykernel_3356\\1195215007.py:1: DtypeWarning: Columns (121,122,130,138,139,141,143,145,146,147,148,149,150,151,152,153,155,156,158,160,162,163,164,165,166,167,168,169,170,172,173,175,177,179,180,181,182,183,184,185,186,187,189,190,192,194,196,197,198,199,200,201,202,203,204,206,207,209,211,213,214,215,216,217,218,219,220,221,223,224,226,228,230,231,232,233,234,235,236,237,238,240,241,243,245,247,248,249,250,251,252,253,254,255,257,258,260,262,264,265,266,267,268,269,270,271,272,274,275,277,279,281,282,283,284,285,286,287,288,289,291,292,294,296,298,299,300,301,302,303,304,305,306,308,309,311,313,315,316,317,318,319,320,321,322,323) have mixed types. Specify dtype option on import or set low_memory=False.\n",
      "  courses_df = pd.read_csv(\"UNCC Spring 24  (EOD 11.24.2023).csv\")\n"
     ]
    }
   ],
   "source": [
    "courses_df = pd.read_csv(\"UNCC Spring 24  (EOD 11.24.2023).csv\")"
   ]
  },
  {
   "cell_type": "code",
   "execution_count": 3,
   "id": "43584c96-802e-42d1-9155-8f93813f6505",
   "metadata": {},
   "outputs": [
    {
     "data": {
      "text/plain": [
       "(5712, 324)"
      ]
     },
     "execution_count": 3,
     "metadata": {},
     "output_type": "execute_result"
    }
   ],
   "source": [
    "courses_df.shape"
   ]
  },
  {
   "cell_type": "code",
   "execution_count": 4,
   "id": "caa7090d",
   "metadata": {},
   "outputs": [
    {
     "data": {
      "text/html": [
       "<div>\n",
       "<style scoped>\n",
       "    .dataframe tbody tr th:only-of-type {\n",
       "        vertical-align: middle;\n",
       "    }\n",
       "\n",
       "    .dataframe tbody tr th {\n",
       "        vertical-align: top;\n",
       "    }\n",
       "\n",
       "    .dataframe thead th {\n",
       "        text-align: right;\n",
       "    }\n",
       "</style>\n",
       "<table border=\"1\" class=\"dataframe\">\n",
       "  <thead>\n",
       "    <tr style=\"text-align: right;\">\n",
       "      <th></th>\n",
       "      <th>id</th>\n",
       "      <th>term</th>\n",
       "      <th>termDesc</th>\n",
       "      <th>courseReferenceNumber</th>\n",
       "      <th>partOfTerm</th>\n",
       "      <th>courseNumber</th>\n",
       "      <th>subject</th>\n",
       "      <th>subjectDescription</th>\n",
       "      <th>sequenceNumber</th>\n",
       "      <th>campusDescription</th>\n",
       "      <th>...</th>\n",
       "      <th>Unnamed: 314</th>\n",
       "      <th>Unnamed: 315</th>\n",
       "      <th>Unnamed: 316</th>\n",
       "      <th>Unnamed: 317</th>\n",
       "      <th>Unnamed: 318</th>\n",
       "      <th>Unnamed: 319</th>\n",
       "      <th>Unnamed: 320</th>\n",
       "      <th>Unnamed: 321</th>\n",
       "      <th>Unnamed: 322</th>\n",
       "      <th>Unnamed: 323</th>\n",
       "    </tr>\n",
       "  </thead>\n",
       "  <tbody>\n",
       "    <tr>\n",
       "      <th>0</th>\n",
       "      <td>276412</td>\n",
       "      <td>202410</td>\n",
       "      <td>Spring 2024</td>\n",
       "      <td>20288</td>\n",
       "      <td>1</td>\n",
       "      <td>2121</td>\n",
       "      <td>ACCT</td>\n",
       "      <td>Accounting</td>\n",
       "      <td>1</td>\n",
       "      <td>Main Campus or Dubois Campus</td>\n",
       "      <td>...</td>\n",
       "      <td>NaN</td>\n",
       "      <td>NaN</td>\n",
       "      <td>NaN</td>\n",
       "      <td>NaN</td>\n",
       "      <td>NaN</td>\n",
       "      <td>NaN</td>\n",
       "      <td>NaN</td>\n",
       "      <td>NaN</td>\n",
       "      <td>NaN</td>\n",
       "      <td>NaN</td>\n",
       "    </tr>\n",
       "    <tr>\n",
       "      <th>1</th>\n",
       "      <td>277009</td>\n",
       "      <td>202410</td>\n",
       "      <td>Spring 2024</td>\n",
       "      <td>20885</td>\n",
       "      <td>1</td>\n",
       "      <td>2121</td>\n",
       "      <td>ACCT</td>\n",
       "      <td>Accounting</td>\n",
       "      <td>3</td>\n",
       "      <td>Main Campus or Dubois Campus</td>\n",
       "      <td>...</td>\n",
       "      <td>NaN</td>\n",
       "      <td>NaN</td>\n",
       "      <td>NaN</td>\n",
       "      <td>NaN</td>\n",
       "      <td>NaN</td>\n",
       "      <td>NaN</td>\n",
       "      <td>NaN</td>\n",
       "      <td>NaN</td>\n",
       "      <td>NaN</td>\n",
       "      <td>NaN</td>\n",
       "    </tr>\n",
       "    <tr>\n",
       "      <th>2</th>\n",
       "      <td>277293</td>\n",
       "      <td>202410</td>\n",
       "      <td>Spring 2024</td>\n",
       "      <td>21169</td>\n",
       "      <td>1</td>\n",
       "      <td>2121</td>\n",
       "      <td>ACCT</td>\n",
       "      <td>Accounting</td>\n",
       "      <td>4</td>\n",
       "      <td>Main Campus or Dubois Campus</td>\n",
       "      <td>...</td>\n",
       "      <td>NaN</td>\n",
       "      <td>NaN</td>\n",
       "      <td>NaN</td>\n",
       "      <td>NaN</td>\n",
       "      <td>NaN</td>\n",
       "      <td>NaN</td>\n",
       "      <td>NaN</td>\n",
       "      <td>NaN</td>\n",
       "      <td>NaN</td>\n",
       "      <td>NaN</td>\n",
       "    </tr>\n",
       "    <tr>\n",
       "      <th>3</th>\n",
       "      <td>277346</td>\n",
       "      <td>202410</td>\n",
       "      <td>Spring 2024</td>\n",
       "      <td>21222</td>\n",
       "      <td>1</td>\n",
       "      <td>2121</td>\n",
       "      <td>ACCT</td>\n",
       "      <td>Accounting</td>\n",
       "      <td>5</td>\n",
       "      <td>Main Campus or Dubois Campus</td>\n",
       "      <td>...</td>\n",
       "      <td>NaN</td>\n",
       "      <td>NaN</td>\n",
       "      <td>NaN</td>\n",
       "      <td>NaN</td>\n",
       "      <td>NaN</td>\n",
       "      <td>NaN</td>\n",
       "      <td>NaN</td>\n",
       "      <td>NaN</td>\n",
       "      <td>NaN</td>\n",
       "      <td>NaN</td>\n",
       "    </tr>\n",
       "    <tr>\n",
       "      <th>4</th>\n",
       "      <td>277841</td>\n",
       "      <td>202410</td>\n",
       "      <td>Spring 2024</td>\n",
       "      <td>21717</td>\n",
       "      <td>1</td>\n",
       "      <td>2121</td>\n",
       "      <td>ACCT</td>\n",
       "      <td>Accounting</td>\n",
       "      <td>6</td>\n",
       "      <td>Main Campus or Dubois Campus</td>\n",
       "      <td>...</td>\n",
       "      <td>NaN</td>\n",
       "      <td>NaN</td>\n",
       "      <td>NaN</td>\n",
       "      <td>NaN</td>\n",
       "      <td>NaN</td>\n",
       "      <td>NaN</td>\n",
       "      <td>NaN</td>\n",
       "      <td>NaN</td>\n",
       "      <td>NaN</td>\n",
       "      <td>NaN</td>\n",
       "    </tr>\n",
       "  </tbody>\n",
       "</table>\n",
       "<p>5 rows × 324 columns</p>\n",
       "</div>"
      ],
      "text/plain": [
       "       id    term     termDesc  courseReferenceNumber partOfTerm courseNumber  \\\n",
       "0  276412  202410  Spring 2024                  20288          1         2121   \n",
       "1  277009  202410  Spring 2024                  20885          1         2121   \n",
       "2  277293  202410  Spring 2024                  21169          1         2121   \n",
       "3  277346  202410  Spring 2024                  21222          1         2121   \n",
       "4  277841  202410  Spring 2024                  21717          1         2121   \n",
       "\n",
       "  subject subjectDescription sequenceNumber             campusDescription  \\\n",
       "0    ACCT         Accounting              1  Main Campus or Dubois Campus   \n",
       "1    ACCT         Accounting              3  Main Campus or Dubois Campus   \n",
       "2    ACCT         Accounting              4  Main Campus or Dubois Campus   \n",
       "3    ACCT         Accounting              5  Main Campus or Dubois Campus   \n",
       "4    ACCT         Accounting              6  Main Campus or Dubois Campus   \n",
       "\n",
       "   ... Unnamed: 314 Unnamed: 315  Unnamed: 316  Unnamed: 317  Unnamed: 318  \\\n",
       "0  ...          NaN          NaN           NaN           NaN           NaN   \n",
       "1  ...          NaN          NaN           NaN           NaN           NaN   \n",
       "2  ...          NaN          NaN           NaN           NaN           NaN   \n",
       "3  ...          NaN          NaN           NaN           NaN           NaN   \n",
       "4  ...          NaN          NaN           NaN           NaN           NaN   \n",
       "\n",
       "   Unnamed: 319  Unnamed: 320  Unnamed: 321  Unnamed: 322 Unnamed: 323  \n",
       "0           NaN           NaN           NaN           NaN          NaN  \n",
       "1           NaN           NaN           NaN           NaN          NaN  \n",
       "2           NaN           NaN           NaN           NaN          NaN  \n",
       "3           NaN           NaN           NaN           NaN          NaN  \n",
       "4           NaN           NaN           NaN           NaN          NaN  \n",
       "\n",
       "[5 rows x 324 columns]"
      ]
     },
     "execution_count": 4,
     "metadata": {},
     "output_type": "execute_result"
    }
   ],
   "source": [
    "courses_df.head()"
   ]
  },
  {
   "cell_type": "markdown",
   "id": "1dfc737f-6ae1-457a-a395-b9c67a62e63f",
   "metadata": {},
   "source": [
    "<hr>"
   ]
  },
  {
   "cell_type": "code",
   "execution_count": 5,
   "id": "98299585-76fd-499e-9663-b2187c671912",
   "metadata": {},
   "outputs": [],
   "source": [
    "compact_df = courses_df\n",
    "for col in compact_df.columns:\n",
    "    if (\"Unnamed: \" in col):\n",
    "        compact_df = compact_df[compact_df[col].isnull()]\n",
    "        compact_df = compact_df.drop(columns=col)"
   ]
  },
  {
   "cell_type": "code",
   "execution_count": 6,
   "id": "17d4eaf5-17e5-459a-abb9-6e9ddf0918c9",
   "metadata": {},
   "outputs": [
    {
     "data": {
      "text/plain": [
       "(5148, 52)"
      ]
     },
     "execution_count": 6,
     "metadata": {},
     "output_type": "execute_result"
    }
   ],
   "source": [
    "compact_df.shape"
   ]
  },
  {
   "cell_type": "code",
   "execution_count": 7,
   "id": "dfa3f166-5b76-43a4-9f74-50c6ad026994",
   "metadata": {},
   "outputs": [],
   "source": [
    "#Move over from next section so columns mantain size in compactdf\n",
    "compact_df.dropna(subset='creditHourSession', inplace=True)"
   ]
  },
  {
   "cell_type": "code",
   "execution_count": 8,
   "id": "0d5e9a9f-7149-41c5-b0c8-20c8e0e6d91a",
   "metadata": {},
   "outputs": [
    {
     "data": {
      "text/plain": [
       "\"id', 'term', 'termDesc', 'courseReferenceNumber', 'partOfTerm', 'courseNumber', 'subject', 'subjectDescription', 'sequenceNumber', 'campusDescription', 'scheduleTypeDescription', 'courseTitle', 'creditHours', 'maximumEnrollment', 'enrollment', 'seatsAvailable', 'waitCapacity', 'waitCount', 'waitAvailable', 'crossList', 'crossListCapacity', 'crossListCount', 'crossListAvailable', 'creditHourHigh', 'creditHourLow', 'creditHourIndicator', 'openSection', 'linkIdentifier', 'isSectionLinked', 'subjectCourse', 'reservedSeatSummary', 'sectionAttributes', 'instructionalMethod', 'instructionalMethodDescription', 'instructor', 'meetingBeginTime', 'meetingBuilding', 'meetingCampus', 'creditHourSession', 'endDate', 'endTime', 'friday', 'hoursAWeek', 'meetingType', 'monday', 'meetingRoom', 'saturday', 'startDate', 'sunday', 'thursday', 'tuesday', 'wednesday\""
      ]
     },
     "execution_count": 8,
     "metadata": {},
     "output_type": "execute_result"
    }
   ],
   "source": [
    "\"', '\".join(compact_df.columns)"
   ]
  },
  {
   "cell_type": "code",
   "execution_count": 9,
   "id": "a34f3dda-4af4-4de7-983d-fe2c7f45f228",
   "metadata": {},
   "outputs": [],
   "source": [
    "drop_col = [\"id\", \"term\", \"termDesc\", \"courseReferenceNumber\", \"courseNumber\", \"subject\", \"subjectDescription\", \"sequenceNumber\",\n",
    "            \"campusDescription\", \"courseTitle\", \"creditHours\", \"seatsAvailable\", \"waitCapacity\", \"waitCount\", \"waitAvailable\",\n",
    "            \"crossList\", \"crossListCapacity\", \"crossListCount\", \"crossListAvailable\", \"creditHourHigh\", \"creditHourLow\",\n",
    "            \"creditHourIndicator\", \"openSection\", \"linkIdentifier\", \"isSectionLinked\", \"reservedSeatSummary\",\n",
    "            \"instructionalMethod\", \"meetingCampus\", \"endDate\", \"hoursAWeek\", \"meetingType\", \"meetingRoom\", \"startDate\"]\n",
    "clean_df = compact_df.drop(columns=drop_col)"
   ]
  },
  {
   "cell_type": "code",
   "execution_count": 10,
   "id": "14d26f7d-d54a-4588-87d1-e5df82c303ad",
   "metadata": {},
   "outputs": [
    {
     "data": {
      "text/plain": [
       "(5112, 19)"
      ]
     },
     "execution_count": 10,
     "metadata": {},
     "output_type": "execute_result"
    }
   ],
   "source": [
    "clean_df.shape"
   ]
  },
  {
   "cell_type": "markdown",
   "id": "98a84213-7b02-4224-aa4c-c0de236658d6",
   "metadata": {},
   "source": [
    "<hr>"
   ]
  },
  {
   "cell_type": "code",
   "execution_count": 11,
   "id": "cfc5b025-0953-49a8-85a6-f5e8905f863d",
   "metadata": {},
   "outputs": [
    {
     "data": {
      "text/plain": [
       "partOfTerm                           0\n",
       "scheduleTypeDescription              0\n",
       "maximumEnrollment                    0\n",
       "enrollment                           0\n",
       "subjectCourse                        0\n",
       "sectionAttributes                 4499\n",
       "instructionalMethodDescription       0\n",
       "instructor                         351\n",
       "meetingBeginTime                  1649\n",
       "meetingBuilding                   1713\n",
       "creditHourSession                    0\n",
       "endTime                           1649\n",
       "friday                               0\n",
       "monday                               0\n",
       "saturday                             0\n",
       "sunday                               0\n",
       "thursday                             0\n",
       "tuesday                              0\n",
       "wednesday                            0\n",
       "dtype: int64"
      ]
     },
     "execution_count": 11,
     "metadata": {},
     "output_type": "execute_result"
    }
   ],
   "source": [
    "clean_df.isnull().sum()"
   ]
  },
  {
   "cell_type": "code",
   "execution_count": 12,
   "id": "b9562b9f-c87d-4fa6-9645-80a4a3c28363",
   "metadata": {},
   "outputs": [],
   "source": [
    "no_null_df = clean_df"
   ]
  },
  {
   "cell_type": "code",
   "execution_count": 13,
   "id": "68c9e189-58d2-4b7d-94ef-90c64043734a",
   "metadata": {},
   "outputs": [],
   "source": [
    "fillBoolNull = [\"monday\", \"tuesday\", \"wednesday\", \"thursday\", \"friday\", \"saturday\", \"sunday\"]\n",
    "for col in fillBoolNull:\n",
    "    no_null_df[col] = no_null_df[col].fillna(False) "
   ]
  },
  {
   "cell_type": "code",
   "execution_count": 14,
   "id": "7d9e4192-d942-420e-b64a-1d96e470feb5",
   "metadata": {},
   "outputs": [],
   "source": [
    "fillIntNull = [\"meetingBeginTime\", \"endTime\"]\n",
    "for col in fillIntNull:\n",
    "    no_null_df[col] = no_null_df[col].fillna(0) "
   ]
  },
  {
   "cell_type": "code",
   "execution_count": 15,
   "id": "72b21ef6-a08b-4312-9c89-0b85fdc1ea00",
   "metadata": {},
   "outputs": [],
   "source": [
    "fillStrNull = [\"instructor\", \"meetingBuilding\"]\n",
    "for col in fillStrNull:\n",
    "    no_null_df[col] = no_null_df[col].fillna(\"None\") "
   ]
  },
  {
   "cell_type": "code",
   "execution_count": 16,
   "id": "8eaea6fb-9612-4584-b327-6b879cb14388",
   "metadata": {},
   "outputs": [],
   "source": [
    "no_null_df['sectionAttributes'] = no_null_df['sectionAttributes'].fillna(\"\") "
   ]
  },
  {
   "cell_type": "code",
   "execution_count": 17,
   "id": "31f6c879-2d47-4b3e-baf2-1172cb4f153d",
   "metadata": {},
   "outputs": [
    {
     "data": {
      "text/plain": [
       "partOfTerm                        0\n",
       "scheduleTypeDescription           0\n",
       "maximumEnrollment                 0\n",
       "enrollment                        0\n",
       "subjectCourse                     0\n",
       "sectionAttributes                 0\n",
       "instructionalMethodDescription    0\n",
       "instructor                        0\n",
       "meetingBeginTime                  0\n",
       "meetingBuilding                   0\n",
       "creditHourSession                 0\n",
       "endTime                           0\n",
       "friday                            0\n",
       "monday                            0\n",
       "saturday                          0\n",
       "sunday                            0\n",
       "thursday                          0\n",
       "tuesday                           0\n",
       "wednesday                         0\n",
       "dtype: int64"
      ]
     },
     "execution_count": 17,
     "metadata": {},
     "output_type": "execute_result"
    }
   ],
   "source": [
    "no_null_df.isnull().sum()"
   ]
  },
  {
   "cell_type": "code",
   "execution_count": 18,
   "id": "6cb82686-d299-4b03-bb7c-603d7d3f0170",
   "metadata": {},
   "outputs": [
    {
     "data": {
      "text/plain": [
       "partOfTerm                         object\n",
       "scheduleTypeDescription            object\n",
       "maximumEnrollment                   int64\n",
       "enrollment                          int64\n",
       "subjectCourse                      object\n",
       "sectionAttributes                  object\n",
       "instructionalMethodDescription     object\n",
       "instructor                         object\n",
       "meetingBeginTime                  float64\n",
       "meetingBuilding                    object\n",
       "creditHourSession                 float64\n",
       "endTime                           float64\n",
       "friday                               bool\n",
       "monday                               bool\n",
       "saturday                             bool\n",
       "sunday                               bool\n",
       "thursday                             bool\n",
       "tuesday                              bool\n",
       "wednesday                            bool\n",
       "dtype: object"
      ]
     },
     "execution_count": 18,
     "metadata": {},
     "output_type": "execute_result"
    }
   ],
   "source": [
    "no_null_df.dtypes"
   ]
  },
  {
   "cell_type": "markdown",
   "id": "06cffceb-4a03-4fa5-b426-263186073f8a",
   "metadata": {},
   "source": [
    "<hr>"
   ]
  },
  {
   "cell_type": "code",
   "execution_count": 19,
   "id": "23c89a3f-f6f6-49e8-b58b-94a1cd7e3715",
   "metadata": {},
   "outputs": [],
   "source": [
    "split = lambda x: x['sectionAttributes'].split(\",\")\n",
    "no_null_df['sectionAttributes'] = no_null_df.apply(split, axis=1)"
   ]
  },
  {
   "cell_type": "code",
   "execution_count": 20,
   "id": "750344ad-1b52-4ba6-93a2-a4fd416d5992",
   "metadata": {},
   "outputs": [
    {
     "data": {
      "text/html": [
       "<div>\n",
       "<style scoped>\n",
       "    .dataframe tbody tr th:only-of-type {\n",
       "        vertical-align: middle;\n",
       "    }\n",
       "\n",
       "    .dataframe tbody tr th {\n",
       "        vertical-align: top;\n",
       "    }\n",
       "\n",
       "    .dataframe thead th {\n",
       "        text-align: right;\n",
       "    }\n",
       "</style>\n",
       "<table border=\"1\" class=\"dataframe\">\n",
       "  <thead>\n",
       "    <tr style=\"text-align: right;\">\n",
       "      <th></th>\n",
       "      <th>partOfTerm</th>\n",
       "      <th>scheduleTypeDescription</th>\n",
       "      <th>maximumEnrollment</th>\n",
       "      <th>enrollment</th>\n",
       "      <th>subjectCourse</th>\n",
       "      <th>instructionalMethodDescription</th>\n",
       "      <th>instructor</th>\n",
       "      <th>meetingBeginTime</th>\n",
       "      <th>meetingBuilding</th>\n",
       "      <th>creditHourSession</th>\n",
       "      <th>...</th>\n",
       "      <th>Non-Western HIST Course</th>\n",
       "      <th>Power Electronics</th>\n",
       "      <th>Power Systems</th>\n",
       "      <th>Pre-1800 - ENGL</th>\n",
       "      <th>Service Learning</th>\n",
       "      <th>Signal Processing</th>\n",
       "      <th>Student Data Mart - Gen Ed</th>\n",
       "      <th>Textual Analysis - RELS</th>\n",
       "      <th>Theory Intensive - ENGL</th>\n",
       "      <th>Writing Intensive Requirement</th>\n",
       "    </tr>\n",
       "  </thead>\n",
       "  <tbody>\n",
       "    <tr>\n",
       "      <th>0</th>\n",
       "      <td>1</td>\n",
       "      <td>Lecture</td>\n",
       "      <td>70</td>\n",
       "      <td>70</td>\n",
       "      <td>ACCT2121</td>\n",
       "      <td>Face-to-Face Instruction</td>\n",
       "      <td>Linwood Kearney</td>\n",
       "      <td>1000.0</td>\n",
       "      <td>Friday</td>\n",
       "      <td>3.0</td>\n",
       "      <td>...</td>\n",
       "      <td>0</td>\n",
       "      <td>0</td>\n",
       "      <td>0</td>\n",
       "      <td>0</td>\n",
       "      <td>0</td>\n",
       "      <td>0</td>\n",
       "      <td>0</td>\n",
       "      <td>0</td>\n",
       "      <td>0</td>\n",
       "      <td>0</td>\n",
       "    </tr>\n",
       "    <tr>\n",
       "      <th>1</th>\n",
       "      <td>1</td>\n",
       "      <td>Lecture</td>\n",
       "      <td>70</td>\n",
       "      <td>70</td>\n",
       "      <td>ACCT2121</td>\n",
       "      <td>Face-to-Face Instruction</td>\n",
       "      <td>Linwood Kearney</td>\n",
       "      <td>1130.0</td>\n",
       "      <td>Friday</td>\n",
       "      <td>3.0</td>\n",
       "      <td>...</td>\n",
       "      <td>0</td>\n",
       "      <td>0</td>\n",
       "      <td>0</td>\n",
       "      <td>0</td>\n",
       "      <td>0</td>\n",
       "      <td>0</td>\n",
       "      <td>0</td>\n",
       "      <td>0</td>\n",
       "      <td>0</td>\n",
       "      <td>0</td>\n",
       "    </tr>\n",
       "    <tr>\n",
       "      <th>2</th>\n",
       "      <td>1</td>\n",
       "      <td>Lecture</td>\n",
       "      <td>70</td>\n",
       "      <td>70</td>\n",
       "      <td>ACCT2121</td>\n",
       "      <td>Face-to-Face Instruction</td>\n",
       "      <td>Linwood Kearney</td>\n",
       "      <td>1430.0</td>\n",
       "      <td>McEniry</td>\n",
       "      <td>3.0</td>\n",
       "      <td>...</td>\n",
       "      <td>0</td>\n",
       "      <td>0</td>\n",
       "      <td>0</td>\n",
       "      <td>0</td>\n",
       "      <td>0</td>\n",
       "      <td>0</td>\n",
       "      <td>0</td>\n",
       "      <td>0</td>\n",
       "      <td>0</td>\n",
       "      <td>0</td>\n",
       "    </tr>\n",
       "    <tr>\n",
       "      <th>3</th>\n",
       "      <td>1</td>\n",
       "      <td>Lecture</td>\n",
       "      <td>70</td>\n",
       "      <td>69</td>\n",
       "      <td>ACCT2121</td>\n",
       "      <td>Face-to-Face Instruction</td>\n",
       "      <td>Linwood Kearney</td>\n",
       "      <td>1600.0</td>\n",
       "      <td>McEniry</td>\n",
       "      <td>3.0</td>\n",
       "      <td>...</td>\n",
       "      <td>0</td>\n",
       "      <td>0</td>\n",
       "      <td>0</td>\n",
       "      <td>0</td>\n",
       "      <td>0</td>\n",
       "      <td>0</td>\n",
       "      <td>0</td>\n",
       "      <td>0</td>\n",
       "      <td>0</td>\n",
       "      <td>0</td>\n",
       "    </tr>\n",
       "    <tr>\n",
       "      <th>4</th>\n",
       "      <td>1</td>\n",
       "      <td>Lecture</td>\n",
       "      <td>70</td>\n",
       "      <td>70</td>\n",
       "      <td>ACCT2121</td>\n",
       "      <td>Face-to-Face Instruction</td>\n",
       "      <td>Steven Kanczewski</td>\n",
       "      <td>1430.0</td>\n",
       "      <td>Friday</td>\n",
       "      <td>3.0</td>\n",
       "      <td>...</td>\n",
       "      <td>0</td>\n",
       "      <td>0</td>\n",
       "      <td>0</td>\n",
       "      <td>0</td>\n",
       "      <td>0</td>\n",
       "      <td>0</td>\n",
       "      <td>0</td>\n",
       "      <td>0</td>\n",
       "      <td>0</td>\n",
       "      <td>0</td>\n",
       "    </tr>\n",
       "    <tr>\n",
       "      <th>...</th>\n",
       "      <td>...</td>\n",
       "      <td>...</td>\n",
       "      <td>...</td>\n",
       "      <td>...</td>\n",
       "      <td>...</td>\n",
       "      <td>...</td>\n",
       "      <td>...</td>\n",
       "      <td>...</td>\n",
       "      <td>...</td>\n",
       "      <td>...</td>\n",
       "      <td>...</td>\n",
       "      <td>...</td>\n",
       "      <td>...</td>\n",
       "      <td>...</td>\n",
       "      <td>...</td>\n",
       "      <td>...</td>\n",
       "      <td>...</td>\n",
       "      <td>...</td>\n",
       "      <td>...</td>\n",
       "      <td>...</td>\n",
       "      <td>...</td>\n",
       "    </tr>\n",
       "    <tr>\n",
       "      <th>5707</th>\n",
       "      <td>1</td>\n",
       "      <td>Discussion/Problem Session</td>\n",
       "      <td>5</td>\n",
       "      <td>5</td>\n",
       "      <td>WRDS4021</td>\n",
       "      <td>Face-to-Face Instruction</td>\n",
       "      <td>Mark Hall</td>\n",
       "      <td>1600.0</td>\n",
       "      <td>Fretwell</td>\n",
       "      <td>3.0</td>\n",
       "      <td>...</td>\n",
       "      <td>0</td>\n",
       "      <td>0</td>\n",
       "      <td>0</td>\n",
       "      <td>0</td>\n",
       "      <td>0</td>\n",
       "      <td>0</td>\n",
       "      <td>0</td>\n",
       "      <td>0</td>\n",
       "      <td>0</td>\n",
       "      <td>0</td>\n",
       "    </tr>\n",
       "    <tr>\n",
       "      <th>5708</th>\n",
       "      <td>1</td>\n",
       "      <td>Discussion/Problem Session</td>\n",
       "      <td>25</td>\n",
       "      <td>19</td>\n",
       "      <td>WRDS4201</td>\n",
       "      <td>Face-to-Face Instruction</td>\n",
       "      <td>Kefaya Diab</td>\n",
       "      <td>1300.0</td>\n",
       "      <td>Smith</td>\n",
       "      <td>3.0</td>\n",
       "      <td>...</td>\n",
       "      <td>0</td>\n",
       "      <td>0</td>\n",
       "      <td>0</td>\n",
       "      <td>0</td>\n",
       "      <td>0</td>\n",
       "      <td>0</td>\n",
       "      <td>0</td>\n",
       "      <td>0</td>\n",
       "      <td>0</td>\n",
       "      <td>0</td>\n",
       "    </tr>\n",
       "    <tr>\n",
       "      <th>5709</th>\n",
       "      <td>1</td>\n",
       "      <td>Discussion/Problem Session</td>\n",
       "      <td>22</td>\n",
       "      <td>20</td>\n",
       "      <td>WRDS4330</td>\n",
       "      <td>Face-to-Face Instruction</td>\n",
       "      <td>Wilfredo Flores</td>\n",
       "      <td>1325.0</td>\n",
       "      <td>Fretwell</td>\n",
       "      <td>3.0</td>\n",
       "      <td>...</td>\n",
       "      <td>0</td>\n",
       "      <td>0</td>\n",
       "      <td>0</td>\n",
       "      <td>0</td>\n",
       "      <td>0</td>\n",
       "      <td>0</td>\n",
       "      <td>1</td>\n",
       "      <td>0</td>\n",
       "      <td>0</td>\n",
       "      <td>0</td>\n",
       "    </tr>\n",
       "    <tr>\n",
       "      <th>5710</th>\n",
       "      <td>1</td>\n",
       "      <td>Internship</td>\n",
       "      <td>4</td>\n",
       "      <td>2</td>\n",
       "      <td>WRDS4400</td>\n",
       "      <td>Online:  No Specific Mtg Times</td>\n",
       "      <td>Albert Wray</td>\n",
       "      <td>0.0</td>\n",
       "      <td>None</td>\n",
       "      <td>3.0</td>\n",
       "      <td>...</td>\n",
       "      <td>0</td>\n",
       "      <td>0</td>\n",
       "      <td>0</td>\n",
       "      <td>0</td>\n",
       "      <td>0</td>\n",
       "      <td>0</td>\n",
       "      <td>0</td>\n",
       "      <td>0</td>\n",
       "      <td>0</td>\n",
       "      <td>0</td>\n",
       "    </tr>\n",
       "    <tr>\n",
       "      <th>5711</th>\n",
       "      <td>1</td>\n",
       "      <td>Discussion/Problem Session</td>\n",
       "      <td>25</td>\n",
       "      <td>13</td>\n",
       "      <td>WRDS4900</td>\n",
       "      <td>Face-to-Face Instruction</td>\n",
       "      <td>Mark Hall</td>\n",
       "      <td>1130.0</td>\n",
       "      <td>Fretwell</td>\n",
       "      <td>3.0</td>\n",
       "      <td>...</td>\n",
       "      <td>0</td>\n",
       "      <td>0</td>\n",
       "      <td>0</td>\n",
       "      <td>0</td>\n",
       "      <td>0</td>\n",
       "      <td>0</td>\n",
       "      <td>0</td>\n",
       "      <td>0</td>\n",
       "      <td>0</td>\n",
       "      <td>0</td>\n",
       "    </tr>\n",
       "  </tbody>\n",
       "</table>\n",
       "<p>5112 rows × 44 columns</p>\n",
       "</div>"
      ],
      "text/plain": [
       "     partOfTerm     scheduleTypeDescription  maximumEnrollment  enrollment  \\\n",
       "0             1                     Lecture                 70          70   \n",
       "1             1                     Lecture                 70          70   \n",
       "2             1                     Lecture                 70          70   \n",
       "3             1                     Lecture                 70          69   \n",
       "4             1                     Lecture                 70          70   \n",
       "...         ...                         ...                ...         ...   \n",
       "5707          1  Discussion/Problem Session                  5           5   \n",
       "5708          1  Discussion/Problem Session                 25          19   \n",
       "5709          1  Discussion/Problem Session                 22          20   \n",
       "5710          1                  Internship                  4           2   \n",
       "5711          1  Discussion/Problem Session                 25          13   \n",
       "\n",
       "     subjectCourse  instructionalMethodDescription         instructor  \\\n",
       "0         ACCT2121        Face-to-Face Instruction    Linwood Kearney   \n",
       "1         ACCT2121        Face-to-Face Instruction    Linwood Kearney   \n",
       "2         ACCT2121        Face-to-Face Instruction    Linwood Kearney   \n",
       "3         ACCT2121        Face-to-Face Instruction    Linwood Kearney   \n",
       "4         ACCT2121        Face-to-Face Instruction  Steven Kanczewski   \n",
       "...            ...                             ...                ...   \n",
       "5707      WRDS4021        Face-to-Face Instruction          Mark Hall   \n",
       "5708      WRDS4201        Face-to-Face Instruction        Kefaya Diab   \n",
       "5709      WRDS4330        Face-to-Face Instruction    Wilfredo Flores   \n",
       "5710      WRDS4400  Online:  No Specific Mtg Times        Albert Wray   \n",
       "5711      WRDS4900        Face-to-Face Instruction          Mark Hall   \n",
       "\n",
       "      meetingBeginTime meetingBuilding  creditHourSession  ...  \\\n",
       "0               1000.0          Friday                3.0  ...   \n",
       "1               1130.0          Friday                3.0  ...   \n",
       "2               1430.0         McEniry                3.0  ...   \n",
       "3               1600.0         McEniry                3.0  ...   \n",
       "4               1430.0          Friday                3.0  ...   \n",
       "...                ...             ...                ...  ...   \n",
       "5707            1600.0        Fretwell                3.0  ...   \n",
       "5708            1300.0           Smith                3.0  ...   \n",
       "5709            1325.0        Fretwell                3.0  ...   \n",
       "5710               0.0            None                3.0  ...   \n",
       "5711            1130.0        Fretwell                3.0  ...   \n",
       "\n",
       "      Non-Western HIST Course  Power Electronics  Power Systems  \\\n",
       "0                           0                  0              0   \n",
       "1                           0                  0              0   \n",
       "2                           0                  0              0   \n",
       "3                           0                  0              0   \n",
       "4                           0                  0              0   \n",
       "...                       ...                ...            ...   \n",
       "5707                        0                  0              0   \n",
       "5708                        0                  0              0   \n",
       "5709                        0                  0              0   \n",
       "5710                        0                  0              0   \n",
       "5711                        0                  0              0   \n",
       "\n",
       "      Pre-1800 - ENGL  Service Learning  Signal Processing  \\\n",
       "0                   0                 0                  0   \n",
       "1                   0                 0                  0   \n",
       "2                   0                 0                  0   \n",
       "3                   0                 0                  0   \n",
       "4                   0                 0                  0   \n",
       "...               ...               ...                ...   \n",
       "5707                0                 0                  0   \n",
       "5708                0                 0                  0   \n",
       "5709                0                 0                  0   \n",
       "5710                0                 0                  0   \n",
       "5711                0                 0                  0   \n",
       "\n",
       "      Student Data Mart - Gen Ed  Textual Analysis - RELS  \\\n",
       "0                              0                        0   \n",
       "1                              0                        0   \n",
       "2                              0                        0   \n",
       "3                              0                        0   \n",
       "4                              0                        0   \n",
       "...                          ...                      ...   \n",
       "5707                           0                        0   \n",
       "5708                           0                        0   \n",
       "5709                           1                        0   \n",
       "5710                           0                        0   \n",
       "5711                           0                        0   \n",
       "\n",
       "      Theory Intensive - ENGL  Writing Intensive Requirement  \n",
       "0                           0                              0  \n",
       "1                           0                              0  \n",
       "2                           0                              0  \n",
       "3                           0                              0  \n",
       "4                           0                              0  \n",
       "...                       ...                            ...  \n",
       "5707                        0                              0  \n",
       "5708                        0                              0  \n",
       "5709                        0                              0  \n",
       "5710                        0                              0  \n",
       "5711                        0                              0  \n",
       "\n",
       "[5112 rows x 44 columns]"
      ]
     },
     "execution_count": 20,
     "metadata": {},
     "output_type": "execute_result"
    }
   ],
   "source": [
    "sectionAttr = no_null_df['sectionAttributes']\n",
    "encoded_df = no_null_df\n",
    "dummies_df = pd.get_dummies(sectionAttr.explode()).groupby(level=0).sum()\n",
    "for col in dummies_df.columns:\n",
    "    encoded_df[col] = dummies_df[col]\n",
    "encoded_df = encoded_df.drop(columns=[\"sectionAttributes\"] ,axis=0)\n",
    "encoded_df.rename(columns={\"\": \"No Attributes\"})"
   ]
  },
  {
   "cell_type": "code",
   "execution_count": 21,
   "id": "dfbfcc43-e71f-42b2-8e92-2504748804ee",
   "metadata": {},
   "outputs": [],
   "source": [
    "def calcFillRatio(row):\n",
    "    if row['maximumEnrollment'] == 0:\n",
    "        return -1\n",
    "    return row['enrollment'] / row['maximumEnrollment']\n",
    "\n",
    "encoded_df['fillRatio'] = encoded_df.apply(calcFillRatio, axis=1)"
   ]
  },
  {
   "cell_type": "code",
   "execution_count": 22,
   "id": "519f4637-3704-4492-a606-94b772ce246e",
   "metadata": {},
   "outputs": [],
   "source": [
    "encoded_df.drop(columns=['enrollment'] ,axis=0, inplace=True)"
   ]
  },
  {
   "cell_type": "code",
   "execution_count": 23,
   "id": "8df205a5-2481-47db-acf7-2bd19a12984a",
   "metadata": {},
   "outputs": [
    {
     "data": {
      "text/plain": [
       "Index(['partOfTerm', 'scheduleTypeDescription', 'maximumEnrollment',\n",
       "       'subjectCourse', 'instructionalMethodDescription', 'instructor',\n",
       "       'meetingBeginTime', 'meetingBuilding', 'creditHourSession', 'endTime',\n",
       "       'friday', 'monday', 'saturday', 'sunday', 'thursday', 'tuesday',\n",
       "       'wednesday', '', 'American Literature - ENGL',\n",
       "       'British Literature - ENGL', 'Communications and Networking',\n",
       "       'Computer Systems', 'Controls and Robotics', 'Critical Thinking & Comm',\n",
       "       'Cross Cultural', 'Cultural Analysis - RELS', 'Devices and Systems',\n",
       "       'Historical Analysis - RELS', 'Historically-Oriented - ENGL',\n",
       "       'LBST 2101', 'Local Social Science Theme', 'Math - Logic Requirement',\n",
       "       'Natural Science Requirement', 'Non-Western HIST Course',\n",
       "       'Power Electronics', 'Power Systems', 'Pre-1800 - ENGL',\n",
       "       'Service Learning', 'Signal Processing', 'Student Data Mart - Gen Ed',\n",
       "       'Textual Analysis - RELS', 'Theory Intensive - ENGL',\n",
       "       'Writing Intensive Requirement', 'fillRatio'],\n",
       "      dtype='object')"
      ]
     },
     "execution_count": 23,
     "metadata": {},
     "output_type": "execute_result"
    }
   ],
   "source": [
    "encoded_df.columns"
   ]
  },
  {
   "cell_type": "code",
   "execution_count": 24,
   "id": "a88ffcb3-a3c9-4703-b985-073a648498fe",
   "metadata": {},
   "outputs": [
    {
     "data": {
      "text/plain": [
       "array(['1', 'H1', '2', 'H2'], dtype=object)"
      ]
     },
     "execution_count": 24,
     "metadata": {},
     "output_type": "execute_result"
    }
   ],
   "source": [
    "encoded_df['partOfTerm'].unique()"
   ]
  },
  {
   "cell_type": "code",
   "execution_count": 25,
   "id": "6d5ed1d5-bc15-448b-af0c-e34c2dd5e9d3",
   "metadata": {},
   "outputs": [],
   "source": [
    "#H1 encode as 3 and H2 encode as 4\n",
    "encoded_df.replace({'partOfTerm': {'1': 1, '2': 2, 'H1': 3, 'H2': 4}}, inplace=True)"
   ]
  },
  {
   "cell_type": "code",
   "execution_count": 26,
   "id": "34e9af08-dff8-4f23-857e-7c45e9f827e6",
   "metadata": {},
   "outputs": [
    {
     "data": {
      "text/plain": [
       "array([1, 3, 2, 4], dtype=int64)"
      ]
     },
     "execution_count": 26,
     "metadata": {},
     "output_type": "execute_result"
    }
   ],
   "source": [
    "encoded_df['partOfTerm'].unique()"
   ]
  },
  {
   "cell_type": "code",
   "execution_count": 27,
   "id": "bed12fea-30a7-47ca-895f-d348eefe9564",
   "metadata": {},
   "outputs": [
    {
     "data": {
      "text/plain": [
       "array(['Lecture', 'Internship', 'Practicum', 'Seminar', 'Research', 'Lab',\n",
       "       'Discussion/Problem Session', 'Independent Study', 'Thesis',\n",
       "       'Studio', 'Cooperative Education', 'Student Teaching',\n",
       "       'Lecture/Lab', 'Clinical', 'Dissertation',\n",
       "       'Masters Cont Regist Credit', 'Doctoral Cont Regist Credit',\n",
       "       'Private Lessons'], dtype=object)"
      ]
     },
     "execution_count": 27,
     "metadata": {},
     "output_type": "execute_result"
    }
   ],
   "source": [
    "encoded_df['scheduleTypeDescription'].unique()"
   ]
  },
  {
   "cell_type": "code",
   "execution_count": 28,
   "id": "8a116199-50ad-48bb-9208-b950609e07b6",
   "metadata": {},
   "outputs": [],
   "source": [
    "from sklearn.preprocessing import LabelEncoder"
   ]
  },
  {
   "cell_type": "code",
   "execution_count": 29,
   "id": "da2036fe-5a3d-4265-8fba-1a2df91363e0",
   "metadata": {},
   "outputs": [],
   "source": [
    "label_encoder = LabelEncoder()"
   ]
  },
  {
   "cell_type": "code",
   "execution_count": 30,
   "id": "19a22302-3e70-4377-af17-7685907d2bf0",
   "metadata": {},
   "outputs": [],
   "source": [
    "columns_to_encode = ['scheduleTypeDescription', 'subjectCourse', 'instructionalMethodDescription', 'instructor', 'meetingBuilding']\n",
    "for col in columns_to_encode: \n",
    "    encoded_df[col] = label_encoder.fit_transform(encoded_df[col])"
   ]
  },
  {
   "cell_type": "code",
   "execution_count": 31,
   "id": "0ee9c668-b446-482a-98b2-1d26962ef293",
   "metadata": {},
   "outputs": [
    {
     "data": {
      "text/plain": [
       "partOfTerm                          int64\n",
       "scheduleTypeDescription             int32\n",
       "maximumEnrollment                   int64\n",
       "subjectCourse                       int32\n",
       "instructionalMethodDescription      int32\n",
       "instructor                          int32\n",
       "meetingBeginTime                  float64\n",
       "meetingBuilding                     int32\n",
       "creditHourSession                 float64\n",
       "endTime                           float64\n",
       "friday                               bool\n",
       "monday                               bool\n",
       "saturday                             bool\n",
       "sunday                               bool\n",
       "thursday                             bool\n",
       "tuesday                              bool\n",
       "wednesday                            bool\n",
       "                                    int64\n",
       "American Literature - ENGL          int64\n",
       "British Literature - ENGL           int64\n",
       "Communications and Networking       int64\n",
       "Computer Systems                    int64\n",
       "Controls and Robotics               int64\n",
       "Critical Thinking & Comm            int64\n",
       "Cross Cultural                      int64\n",
       "Cultural Analysis - RELS            int64\n",
       "Devices and Systems                 int64\n",
       "Historical Analysis - RELS          int64\n",
       "Historically-Oriented - ENGL        int64\n",
       "LBST 2101                           int64\n",
       "Local Social Science Theme          int64\n",
       "Math - Logic Requirement            int64\n",
       "Natural Science Requirement         int64\n",
       "Non-Western HIST Course             int64\n",
       "Power Electronics                   int64\n",
       "Power Systems                       int64\n",
       "Pre-1800 - ENGL                     int64\n",
       "Service Learning                    int64\n",
       "Signal Processing                   int64\n",
       "Student Data Mart - Gen Ed          int64\n",
       "Textual Analysis - RELS             int64\n",
       "Theory Intensive - ENGL             int64\n",
       "Writing Intensive Requirement       int64\n",
       "fillRatio                         float64\n",
       "dtype: object"
      ]
     },
     "execution_count": 31,
     "metadata": {},
     "output_type": "execute_result"
    }
   ],
   "source": [
    "encoded_df.dtypes"
   ]
  },
  {
   "cell_type": "markdown",
   "id": "ad3a2700-8fb9-48ed-bec2-d26e4882532f",
   "metadata": {},
   "source": [
    "<br>"
   ]
  },
  {
   "cell_type": "markdown",
   "id": "2ac66814-f34b-463b-a07e-4cd8f8fbe7de",
   "metadata": {},
   "source": [
    "<hr>"
   ]
  },
  {
   "cell_type": "markdown",
   "id": "6e4f7d57-3cd4-41af-a728-3521c0e823c5",
   "metadata": {},
   "source": [
    "<br>"
   ]
  },
  {
   "cell_type": "code",
   "execution_count": 32,
   "id": "e61d3396-f958-42e4-b43a-0831384bae90",
   "metadata": {},
   "outputs": [],
   "source": [
    "from sklearn.model_selection import train_test_split\n",
    "from sklearn import linear_model"
   ]
  },
  {
   "cell_type": "code",
   "execution_count": 33,
   "id": "edfc4a63-7f03-44be-915f-297cf0366cee",
   "metadata": {},
   "outputs": [],
   "source": [
    "features = encoded_df.drop(columns = 'fillRatio', axis=1)\n",
    "ratio = encoded_df['fillRatio']"
   ]
  },
  {
   "cell_type": "code",
   "execution_count": 34,
   "id": "feae89ff-92fa-45b2-b050-f811669d58c4",
   "metadata": {},
   "outputs": [
    {
     "name": "stdout",
     "output_type": "stream",
     "text": [
      "0.164439833631552\n",
      "0.194425573974728\n",
      "0.223973578394066\n",
      "0.278748798225001\n",
      "0.284173910230229\n",
      "0.286998771427629\n",
      "0.299639872001625\n"
     ]
    }
   ],
   "source": [
    "maxScore = 0\n",
    "\n",
    "for s in range(10, 50, 5):\n",
    "    si = s/100\n",
    "    for i in range(1000):\n",
    "      X_train, X_test, y_train, y_test = train_test_split(features, ratio, test_size = si)\n",
    "    \n",
    "      linear_reg = linear_model.LinearRegression()\n",
    "    \n",
    "      linear_reg = linear_reg.fit(X_train, y_train)\n",
    "    \n",
    "      temp = linear_reg.score(X_test, y_test).round(15)\n",
    "    \n",
    "      if (temp > maxScore): \n",
    "        maxScore = temp\n",
    "        bestCoef = linear_reg.coef_\n",
    "        print(temp)"
   ]
  },
  {
   "cell_type": "code",
   "execution_count": 35,
   "id": "ba9fca10-549e-4898-bef0-0eae2f098201",
   "metadata": {},
   "outputs": [],
   "source": [
    "encoded_df2 = encoded_df"
   ]
  },
  {
   "cell_type": "code",
   "execution_count": 36,
   "id": "e589cd19-3dd0-429f-b9a8-a86b3c1f47fc",
   "metadata": {
    "scrolled": true
   },
   "outputs": [
    {
     "name": "stdout",
     "output_type": "stream",
     "text": [
      "Adding id with i\n",
      "Adding term with i\n",
      "termDesc is not numeric: object\n",
      "Adding courseReferenceNumber with i\n",
      "courseNumber is not numeric: object\n",
      "subject is not numeric: object\n",
      "subjectDescription is not numeric: object\n",
      "sequenceNumber is not numeric: object\n",
      "campusDescription is not numeric: object\n",
      "courseTitle is not numeric: object\n",
      "2752 nulls in creditHours\n",
      "Adding waitCapacity with i\n",
      "Adding waitCount with i\n",
      "Adding waitAvailable with i\n",
      "3675 nulls in crossList\n",
      "3673 nulls in crossListCapacity\n",
      "3673 nulls in crossListCount\n",
      "3673 nulls in crossListAvailable\n",
      "4056 nulls in creditHourHigh\n",
      "Adding creditHourLow with f\n",
      "4056 nulls in creditHourIndicator\n",
      "Adding openSection with b\n",
      "5112 nulls in linkIdentifier\n",
      "Adding isSectionLinked with b\n",
      "5069 nulls in reservedSeatSummary\n",
      "instructionalMethod is not numeric: object\n",
      "1489 nulls in meetingCampus\n",
      "endDate is not numeric: object\n",
      "Adding hoursAWeek with f\n",
      "meetingType is not numeric: object\n",
      "1489 nulls in meetingRoom\n",
      "startDate is not numeric: object\n"
     ]
    }
   ],
   "source": [
    "for col in drop_col:\n",
    "    if (compact_df[col].isnull().sum() < 1):\n",
    "        if (compact_df[col].dtype.kind in 'biufc'):\n",
    "            if (not col in ['seatsAvailable']):\n",
    "                print(f\"Adding {col} with {compact_df[col].dtype.kind}\")\n",
    "                encoded_df2[col] = compact_df[col]\n",
    "        else:\n",
    "            print(f\"{col} is not numeric: {compact_df[col].dtype}\")\n",
    "    else:\n",
    "        print(f\"{compact_df[col].isnull().sum()} nulls in {col}\")"
   ]
  },
  {
   "cell_type": "code",
   "execution_count": 37,
   "id": "64a027c7-cf6a-477c-9e11-8a8023f6bbaf",
   "metadata": {},
   "outputs": [],
   "source": [
    "features2 = encoded_df2.drop(columns = 'fillRatio', axis=1)\n",
    "ratio2 = encoded_df2['fillRatio']"
   ]
  },
  {
   "cell_type": "code",
   "execution_count": 38,
   "id": "4d7c6994-4a35-4adc-bc71-7856f2dc6f86",
   "metadata": {},
   "outputs": [
    {
     "name": "stdout",
     "output_type": "stream",
     "text": [
      "0.31435370031387\n",
      "0.319585858474395\n",
      "0.416607759605081\n",
      "0.416670616467255\n",
      "0.442882112601778\n"
     ]
    }
   ],
   "source": [
    "maxScore2 = 0\n",
    "\n",
    "for s in range(10, 50, 5):\n",
    "    si = s/100\n",
    "    for i in range(1000):\n",
    "      X_train, X_test, y_train, y_test = train_test_split(features2, ratio2, test_size = si)\n",
    "    \n",
    "      linear_reg = linear_model.LinearRegression()\n",
    "    \n",
    "      linear_reg = linear_reg.fit(X_train, y_train)\n",
    "    \n",
    "      temp = linear_reg.score(X_test, y_test).round(15)\n",
    "    \n",
    "      if (temp > maxScore2): \n",
    "        maxScore2 = temp\n",
    "        bestCoef2 = linear_reg.coef_\n",
    "        print(temp)"
   ]
  },
  {
   "cell_type": "code",
   "execution_count": 39,
   "id": "7cc1c24f-d110-4e32-a7b6-c2e4c8f742bd",
   "metadata": {},
   "outputs": [],
   "source": [
    "encoded_df3 = encoded_df2"
   ]
  },
  {
   "cell_type": "code",
   "execution_count": 40,
   "id": "2760f29d-8128-462e-87c6-9c798045bb5a",
   "metadata": {},
   "outputs": [
    {
     "name": "stdout",
     "output_type": "stream",
     "text": [
      "termDesc: object : int32\n",
      "courseNumber: object : int32\n",
      "subject: object : int32\n",
      "subjectDescription: object : int32\n",
      "sequenceNumber: object : int32\n",
      "campusDescription: object : int32\n",
      "courseTitle: object : int32\n",
      "2752 nulls in creditHours\n",
      "3675 nulls in crossList\n",
      "3673 nulls in crossListCapacity\n",
      "3673 nulls in crossListCount\n",
      "3673 nulls in crossListAvailable\n",
      "4056 nulls in creditHourHigh\n",
      "4056 nulls in creditHourIndicator\n",
      "5112 nulls in linkIdentifier\n",
      "5069 nulls in reservedSeatSummary\n",
      "instructionalMethod: object : int32\n",
      "1489 nulls in meetingCampus\n",
      "endDate: object : int32\n",
      "meetingType: object : int32\n",
      "1489 nulls in meetingRoom\n",
      "startDate: object : int32\n"
     ]
    }
   ],
   "source": [
    "for col in drop_col:\n",
    "    if (compact_df[col].isnull().sum() < 1):\n",
    "        if (not (compact_df[col].dtype.kind in 'biufc')):\n",
    "            label_encoder = LabelEncoder()\n",
    "            encoded_df3[col] = label_encoder.fit_transform(compact_df[col])\n",
    "            print(f\"{col}: {compact_df[col].dtype} : {encoded_df3[col].dtype}\")\n",
    "    else:\n",
    "        print(f\"{compact_df[col].isnull().sum()} nulls in {col}\")"
   ]
  },
  {
   "cell_type": "code",
   "execution_count": 41,
   "id": "c2977e1d-ce6d-4aea-aa12-a975d6a87ea3",
   "metadata": {},
   "outputs": [],
   "source": [
    "features3 = encoded_df3.drop(columns = 'fillRatio', axis=1)\n",
    "ratio3 = encoded_df3['fillRatio']"
   ]
  },
  {
   "cell_type": "code",
   "execution_count": 42,
   "id": "cef9e26e-369e-407e-a87a-292092cc9e7d",
   "metadata": {},
   "outputs": [
    {
     "name": "stdout",
     "output_type": "stream",
     "text": [
      "0.384329341505888\n",
      "0.392374187706033\n",
      "0.406231929065916\n",
      "0.418754074094736\n",
      "0.430277174859522\n",
      "0.439481416239403\n",
      "0.442106333440088\n",
      "0.444166112656151\n",
      "0.453897813155502\n",
      "0.460271865218725\n",
      "0.467727936083849\n"
     ]
    }
   ],
   "source": [
    "maxScore3 = 0\n",
    "\n",
    "for s in range(10, 50, 5):\n",
    "    si = s/100\n",
    "    for i in range(1000):\n",
    "      X_train, X_test, y_train, y_test = train_test_split(features3, ratio3, test_size = si)\n",
    "    \n",
    "      linear_reg = linear_model.LinearRegression()\n",
    "    \n",
    "      linear_reg = linear_reg.fit(X_train, y_train)\n",
    "    \n",
    "      temp = linear_reg.score(X_test, y_test).round(15)\n",
    "    \n",
    "      if (temp > maxScore3): \n",
    "        maxScore3 = temp\n",
    "        bestCoef3 = linear_reg.coef_\n",
    "        print(temp)"
   ]
  },
  {
   "cell_type": "code",
   "execution_count": 43,
   "id": "06d2dd02-2af4-40cc-9471-a1143bb3fe11",
   "metadata": {},
   "outputs": [
    {
     "data": {
      "text/plain": [
       "{'startDate': -0.7894565119110621,\n",
       " 'Historically-Oriented - ENGL': -0.35854080445919234,\n",
       " 'Controls and Robotics': -0.2080946055469851,\n",
       " 'openSection': -0.18039603507422985,\n",
       " 'Signal Processing': -0.1596361895448643,\n",
       " 'Math - Logic Requirement': -0.14030232621180785,\n",
       " 'Historical Analysis - RELS': -0.08319329465633277,\n",
       " 'Cross Cultural': -0.04966145139088074,\n",
       " 'hoursAWeek': -0.0456370294381655,\n",
       " 'Textual Analysis - RELS': -0.029767156083619795,\n",
       " 'creditHourSession': -0.023119449107559573,\n",
       " 'instructionalMethod': -0.011471413689058435,\n",
       " 'waitAvailable': -0.00928705840802374,\n",
       " 'subject': -0.003919743841113224,\n",
       " 'meetingBuilding': -0.002021881771705751,\n",
       " 'meetingBeginTime': -0.0013990622290654814,\n",
       " 'courseNumber': -0.00024167660914897748,\n",
       " 'courseReferenceNumber': -2.7805412056686185e-05,\n",
       " 'instructor': -1.8435666700053477e-05,\n",
       " 'courseTitle': -1.5609509332159544e-05,\n",
       " 'termDesc': -5.551115123125783e-17,\n",
       " 'meetingType': 0.0,\n",
       " 'isSectionLinked': 7.632783294297951e-17,\n",
       " 'term': 1.3877787807814457e-16,\n",
       " 'id': 1.3585137280114346e-05,\n",
       " 'sequenceNumber': 0.00016032593879289347,\n",
       " 'subjectCourse': 0.00020039360140111304,\n",
       " 'maximumEnrollment': 0.0008349361893746686,\n",
       " 'subjectDescription': 0.0011519185925731867,\n",
       " 'endTime': 0.001314069132265741,\n",
       " 'scheduleTypeDescription': 0.008215086679614035,\n",
       " 'campusDescription': 0.012347121660353788,\n",
       " 'waitCapacity': 0.0229041287129656,\n",
       " 'instructionalMethodDescription': 0.02308380913951641,\n",
       " 'friday': 0.024552527723657097,\n",
       " 'waitCount': 0.032191187120950704,\n",
       " 'creditHourLow': 0.06721869520082946,\n",
       " 'Power Electronics': 0.08429202248991692,\n",
       " 'monday': 0.10812898014077776,\n",
       " 'thursday': 0.12401898196504751,\n",
       " 'tuesday': 0.1472004022944394,\n",
       " 'wednesday': 0.1483551906994526,\n",
       " 'Local Social Science Theme': 0.16015638106774582,\n",
       " '': 0.16661211975317564,\n",
       " 'Student Data Mart - Gen Ed': 0.17363370873922973,\n",
       " 'Non-Western HIST Course': 0.17419433531332487,\n",
       " 'Service Learning': 0.2069795665876776,\n",
       " 'Critical Thinking & Comm': 0.2245271135327107,\n",
       " 'Communications and Networking': 0.2313840389095791,\n",
       " 'Cultural Analysis - RELS': 0.24614309706246684,\n",
       " 'Pre-1800 - ENGL': 0.2852244728198232,\n",
       " 'sunday': 0.2983155205538318,\n",
       " 'Power Systems': 0.3207730104351719,\n",
       " 'Theory Intensive - ENGL': 0.32588979970712595,\n",
       " 'Natural Science Requirement': 0.3378090416401129,\n",
       " 'Writing Intensive Requirement': 0.34193674934069596,\n",
       " 'Devices and Systems': 0.356971798459252,\n",
       " 'saturday': 0.3726398837117927,\n",
       " 'LBST 2101': 0.4692681311132997,\n",
       " 'American Literature - ENGL': 0.4958927104265585,\n",
       " 'endDate': 0.5088867795671851,\n",
       " 'partOfTerm': 0.537608562342561,\n",
       " 'British Literature - ENGL': 0.6111142725269473,\n",
       " 'Computer Systems': 0.629440694271288}"
      ]
     },
     "execution_count": 43,
     "metadata": {},
     "output_type": "execute_result"
    }
   ],
   "source": [
    "coef3_dict = {}\n",
    "for i in range(features3.keys().size):\n",
    "    coef3_dict[features3.keys()[i]] = bestCoef3[i]\n",
    "\n",
    "dict(sorted(coef3_dict.items(), key=lambda item: item[1]))"
   ]
  },
  {
   "cell_type": "code",
   "execution_count": 51,
   "id": "56721b5d-b8b4-4d04-9d7f-c595bee8f9d4",
   "metadata": {},
   "outputs": [
    {
     "name": "stdout",
     "output_type": "stream",
     "text": [
      "'startDate': -0.7894565119110621 |'Historically-Oriented - ENGL': -0.35854080445919234\n",
      "'Controls and Robotics': -0.2080946055469851 |'openSection': -0.18039603507422985\n",
      "'Signal Processing': -0.1596361895448643 |'Math - Logic Requirement': -0.14030232621180785\n",
      "'Historical Analysis - RELS': -0.08319329465633277 | 'Cross Cultural': -0.04966145139088074\n",
      "'hoursAWeek': -0.0456370294381655 | 'Textual Analysis - RELS': -0.029767156083619795\n",
      "'creditHourSession': -0.023119449107559573 | 'instructionalMethod': -0.011471413689058435\n",
      "'waitAvailable': -0.00928705840802374 | 'subject': -0.003919743841113224\n",
      "'meetingBuilding': -0.002021881771705751 | 'meetingBeginTime': -0.0013990622290654814\n",
      "'courseNumber': -0.00024167660914897748 | 'courseReferenceNumber': -2.7805412056686185e-05\n",
      "'instructor': -1.8435666700053477e-05 | 'courseTitle': -1.5609509332159544e-05\n",
      "'termDesc': -5.551115123125783e-17 | 'meetingType': 0.0\n",
      "'isSectionLinked': 7.632783294297951e-17 | 'term': 1.3877787807814457e-16\n",
      "'id': 1.3585137280114346e-05 | 'sequenceNumber': 0.00016032593879289347\n",
      "'subjectCourse': 0.00020039360140111304 | 'maximumEnrollment': 0.0008349361893746686\n",
      "'subjectDescription': 0.0011519185925731867 | 'endTime': 0.001314069132265741\n",
      "'scheduleTypeDescription': 0.008215086679614035 | 'campusDescription': 0.012347121660353788\n",
      "'waitCapacity': 0.0229041287129656 | 'instructionalMethodDescription': 0.02308380913951641\n",
      "'friday': 0.024552527723657097 | 'waitCount': 0.032191187120950704\n",
      "'creditHourLow': 0.06721869520082946 | 'Power Electronics': 0.08429202248991692\n",
      "'monday': 0.10812898014077776 | 'thursday': 0.12401898196504751\n",
      "'tuesday': 0.1472004022944394 | 'wednesday': 0.1483551906994526\n",
      "'Local Social Science Theme': 0.16015638106774582 | '': 0.16661211975317564\n",
      "'Student Data Mart - Gen Ed': 0.17363370873922973 | 'Non-Western HIST Course': 0.17419433531332487\n",
      "'Service Learning': 0.2069795665876776 | 'Critical Thinking & Comm': 0.2245271135327107\n",
      "'Communications and Networking': 0.2313840389095791 | 'Cultural Analysis - RELS': 0.24614309706246684\n",
      "'Pre-1800 - ENGL': 0.2852244728198232 | 'sunday': 0.2983155205538318\n",
      "'Power Systems': 0.3207730104351719 | 'Theory Intensive - ENGL': 0.32588979970712595\n",
      "'Natural Science Requirement': 0.3378090416401129 | 'Writing Intensive Requirement': 0.34193674934069596\n",
      "'Devices and Systems': 0.356971798459252 | 'saturday': 0.3726398837117927\n",
      "'LBST 2101': 0.4692681311132997 | 'American Literature - ENGL': 0.4958927104265585\n",
      "'endDate': 0.5088867795671851 | 'partOfTerm': 0.537608562342561\n",
      "'British Literature - ENGL': 0.6111142725269473 | 'Computer Systems': 0.629440694271288\n"
     ]
    }
   ],
   "source": [
    "print(\"\"\"'startDate': -0.7894565119110621 |'Historically-Oriented - ENGL': -0.35854080445919234\n",
    "'Controls and Robotics': -0.2080946055469851 |'openSection': -0.18039603507422985\n",
    "'Signal Processing': -0.1596361895448643 |'Math - Logic Requirement': -0.14030232621180785\n",
    "'Historical Analysis - RELS': -0.08319329465633277 | 'Cross Cultural': -0.04966145139088074\n",
    "'hoursAWeek': -0.0456370294381655 | 'Textual Analysis - RELS': -0.029767156083619795\n",
    "'creditHourSession': -0.023119449107559573 | 'instructionalMethod': -0.011471413689058435\n",
    "'waitAvailable': -0.00928705840802374 | 'subject': -0.003919743841113224\n",
    "'meetingBuilding': -0.002021881771705751 | 'meetingBeginTime': -0.0013990622290654814\n",
    "'courseNumber': -0.00024167660914897748 | 'courseReferenceNumber': -2.7805412056686185e-05\n",
    "'instructor': -1.8435666700053477e-05 | 'courseTitle': -1.5609509332159544e-05\n",
    "'termDesc': -5.551115123125783e-17 | 'meetingType': 0.0\n",
    "'isSectionLinked': 7.632783294297951e-17 | 'term': 1.3877787807814457e-16\n",
    "'id': 1.3585137280114346e-05 | 'sequenceNumber': 0.00016032593879289347\n",
    "'subjectCourse': 0.00020039360140111304 | 'maximumEnrollment': 0.0008349361893746686\n",
    "'subjectDescription': 0.0011519185925731867 | 'endTime': 0.001314069132265741\n",
    "'scheduleTypeDescription': 0.008215086679614035 | 'campusDescription': 0.012347121660353788\n",
    "'waitCapacity': 0.0229041287129656 | 'instructionalMethodDescription': 0.02308380913951641\n",
    "'friday': 0.024552527723657097 | 'waitCount': 0.032191187120950704\n",
    "'creditHourLow': 0.06721869520082946 | 'Power Electronics': 0.08429202248991692\n",
    "'monday': 0.10812898014077776 | 'thursday': 0.12401898196504751\n",
    "'tuesday': 0.1472004022944394 | 'wednesday': 0.1483551906994526\n",
    "'Local Social Science Theme': 0.16015638106774582 | '': 0.16661211975317564\n",
    "'Student Data Mart - Gen Ed': 0.17363370873922973 | 'Non-Western HIST Course': 0.17419433531332487\n",
    "'Service Learning': 0.2069795665876776 | 'Critical Thinking & Comm': 0.2245271135327107\n",
    "'Communications and Networking': 0.2313840389095791 | 'Cultural Analysis - RELS': 0.24614309706246684\n",
    "'Pre-1800 - ENGL': 0.2852244728198232 | 'sunday': 0.2983155205538318\n",
    "'Power Systems': 0.3207730104351719 | 'Theory Intensive - ENGL': 0.32588979970712595\n",
    "'Natural Science Requirement': 0.3378090416401129 | 'Writing Intensive Requirement': 0.34193674934069596\n",
    "'Devices and Systems': 0.356971798459252 | 'saturday': 0.3726398837117927\n",
    "'LBST 2101': 0.4692681311132997 | 'American Literature - ENGL': 0.4958927104265585\n",
    "'endDate': 0.5088867795671851 | 'partOfTerm': 0.537608562342561\n",
    "'British Literature - ENGL': 0.6111142725269473 | 'Computer Systems': 0.629440694271288\"\"\")"
   ]
  },
  {
   "cell_type": "code",
   "execution_count": 45,
   "id": "884992b3-8392-4c3d-bfd4-472b3c4193d3",
   "metadata": {},
   "outputs": [],
   "source": [
    "from sklearn.svm import SVR"
   ]
  },
  {
   "cell_type": "code",
   "execution_count": 46,
   "id": "2683d4b1-2b49-4452-a287-ad444c6c1a38",
   "metadata": {},
   "outputs": [
    {
     "data": {
      "text/plain": [
       "0.052048662602855"
      ]
     },
     "execution_count": 46,
     "metadata": {},
     "output_type": "execute_result"
    }
   ],
   "source": [
    "X_train, X_test, y_train, y_test = train_test_split(features3, ratio3, test_size = 0.1)\n",
    "    \n",
    "svr = SVR()\n",
    "    \n",
    "svr = svr.fit(X_train, y_train)\n",
    "    \n",
    "svr.score(X_test, y_test).round(15)"
   ]
  },
  {
   "cell_type": "code",
   "execution_count": 47,
   "id": "529e6a52-2cc9-4d0d-9d5f-17e84023ed2d",
   "metadata": {},
   "outputs": [],
   "source": [
    "from sklearn.tree import DecisionTreeRegressor"
   ]
  },
  {
   "cell_type": "code",
   "execution_count": 52,
   "id": "afcc5c9f-1bb6-4a83-b99d-3d18a20c2c0e",
   "metadata": {},
   "outputs": [
    {
     "name": "stdout",
     "output_type": "stream",
     "text": [
      "Depth = 1 : 0.308154831418988\n",
      "Depth = 2 : 0.530968179859616\n",
      "Depth = 3 : 0.609328298079605\n",
      "Depth = 4 : 0.684644046234896\n",
      "Depth = 5 : 0.735004748059705\n",
      "Depth = 6 : 0.722183577714205\n",
      "Depth = 7 : 0.744415633957003\n",
      "Depth = 8 : 0.707963629649581\n",
      "Depth = 9 : 0.706113540768395\n",
      "Depth = 10 : 0.706272832212179\n",
      "Depth = 11 : 0.706496397842319\n",
      "Depth = 12 : 0.675300438419589\n",
      "Depth = 13 : 0.651192878212012\n",
      "Depth = 14 : 0.668906465337333\n",
      "Depth = 15 : 0.661224110678002\n",
      "Depth = 16 : 0.661129343474302\n",
      "Depth = 17 : 0.597498788302908\n",
      "Depth = 18 : 0.625572083810501\n",
      "Depth = 19 : 0.607026821819881\n"
     ]
    }
   ],
   "source": [
    "for i in range(1, 20):\n",
    "    X_train, X_test, y_train, y_test = train_test_split(features3, ratio3, test_size = 0.3)\n",
    "        \n",
    "    decision_tree_reg = DecisionTreeRegressor(max_depth=i)\n",
    "        \n",
    "    decision_tree_reg = decision_tree_reg.fit(X_train, y_train)\n",
    "        \n",
    "    print(f\"Depth = {i} : {decision_tree_reg.score(X_test, y_test).round(15)}\")"
   ]
  },
  {
   "cell_type": "code",
   "execution_count": 53,
   "id": "e961514a-48bd-4075-aa55-68f4d09a474a",
   "metadata": {},
   "outputs": [
    {
     "data": {
      "text/plain": [
       "0.719272438682996"
      ]
     },
     "execution_count": 53,
     "metadata": {},
     "output_type": "execute_result"
    }
   ],
   "source": [
    "X_train, X_test, y_train, y_test = train_test_split(features3, ratio3, test_size = 0.3)\n",
    "        \n",
    "decision_tree_reg = DecisionTreeRegressor(max_depth=5)\n",
    "        \n",
    "decision_tree_reg = decision_tree_reg.fit(X_train, y_train)\n",
    "\n",
    "decision_tree_reg.score(X_test, y_test).round(15)"
   ]
  },
  {
   "cell_type": "code",
   "execution_count": 50,
   "id": "27d0cf2f-7ed7-43ea-a3bf-74f575c488c3",
   "metadata": {},
   "outputs": [
    {
     "data": {
      "text/plain": [
       "{'partOfTerm': 0.0,\n",
       " 'instructionalMethodDescription': 0.0,\n",
       " 'instructor': 0.0,\n",
       " 'meetingBeginTime': 0.0,\n",
       " 'meetingBuilding': 0.0,\n",
       " 'creditHourSession': 0.0,\n",
       " 'friday': 0.0,\n",
       " 'monday': 0.0,\n",
       " 'saturday': 0.0,\n",
       " 'sunday': 0.0,\n",
       " 'thursday': 0.0,\n",
       " '': 0.0,\n",
       " 'American Literature - ENGL': 0.0,\n",
       " 'British Literature - ENGL': 0.0,\n",
       " 'Communications and Networking': 0.0,\n",
       " 'Computer Systems': 0.0,\n",
       " 'Controls and Robotics': 0.0,\n",
       " 'Critical Thinking & Comm': 0.0,\n",
       " 'Cross Cultural': 0.0,\n",
       " 'Cultural Analysis - RELS': 0.0,\n",
       " 'Devices and Systems': 0.0,\n",
       " 'Historical Analysis - RELS': 0.0,\n",
       " 'Historically-Oriented - ENGL': 0.0,\n",
       " 'LBST 2101': 0.0,\n",
       " 'Local Social Science Theme': 0.0,\n",
       " 'Math - Logic Requirement': 0.0,\n",
       " 'Natural Science Requirement': 0.0,\n",
       " 'Non-Western HIST Course': 0.0,\n",
       " 'Power Electronics': 0.0,\n",
       " 'Power Systems': 0.0,\n",
       " 'Pre-1800 - ENGL': 0.0,\n",
       " 'Service Learning': 0.0,\n",
       " 'Signal Processing': 0.0,\n",
       " 'Student Data Mart - Gen Ed': 0.0,\n",
       " 'Textual Analysis - RELS': 0.0,\n",
       " 'Theory Intensive - ENGL': 0.0,\n",
       " 'Writing Intensive Requirement': 0.0,\n",
       " 'term': 0.0,\n",
       " 'isSectionLinked': 0.0,\n",
       " 'hoursAWeek': 0.0,\n",
       " 'termDesc': 0.0,\n",
       " 'campusDescription': 0.0,\n",
       " 'instructionalMethod': 0.0,\n",
       " 'endDate': 0.0,\n",
       " 'meetingType': 0.0,\n",
       " 'startDate': 0.0,\n",
       " 'wednesday': 3.7268088499725446e-08,\n",
       " 'subjectDescription': 3.7610954914983244e-06,\n",
       " 'tuesday': 0.00016749754712350464,\n",
       " 'courseTitle': 0.0005554965785178017,\n",
       " 'subject': 0.0007964679677255258,\n",
       " 'subjectCourse': 0.0011537312946994414,\n",
       " 'id': 0.0025438921971561684,\n",
       " 'waitAvailable': 0.004493228024905609,\n",
       " 'sequenceNumber': 0.006106656639493566,\n",
       " 'courseReferenceNumber': 0.010076999523633941,\n",
       " 'scheduleTypeDescription': 0.010626545254093765,\n",
       " 'endTime': 0.010717443548725617,\n",
       " 'waitCapacity': 0.015742678119262218,\n",
       " 'waitCount': 0.046824852782538624,\n",
       " 'creditHourLow': 0.059827229678380174,\n",
       " 'courseNumber': 0.1264116004518816,\n",
       " 'openSection': 0.2684617599857669,\n",
       " 'maximumEnrollment': 0.4354901220425155}"
      ]
     },
     "execution_count": 50,
     "metadata": {},
     "output_type": "execute_result"
    }
   ],
   "source": [
    "dt_score = decision_tree_reg.feature_importances_\n",
    "dt_dict = {}\n",
    "for i in range(features3.keys().size):\n",
    "    dt_dict[features3.keys()[i]] = dt_score[i]\n",
    "\n",
    "dict(sorted(dt_dict.items(), key=lambda item: item[1]))"
   ]
  },
  {
   "cell_type": "code",
   "execution_count": null,
   "id": "3c04b634-56ee-45c6-8ce7-15d3577bcfa8",
   "metadata": {},
   "outputs": [],
   "source": []
  }
 ],
 "metadata": {
  "kernelspec": {
   "display_name": "Python 3 (ipykernel)",
   "language": "python",
   "name": "python3"
  },
  "language_info": {
   "codemirror_mode": {
    "name": "ipython",
    "version": 3
   },
   "file_extension": ".py",
   "mimetype": "text/x-python",
   "name": "python",
   "nbconvert_exporter": "python",
   "pygments_lexer": "ipython3",
   "version": "3.12.0"
  }
 },
 "nbformat": 4,
 "nbformat_minor": 5
}
